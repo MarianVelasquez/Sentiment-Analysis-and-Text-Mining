{
  "nbformat": 4,
  "nbformat_minor": 0,
  "metadata": {
    "colab": {
      "provenance": []
    },
    "kernelspec": {
      "name": "python3",
      "display_name": "Python 3"
    },
    "language_info": {
      "name": "python"
    }
  },
  "cells": [
    {
      "cell_type": "code",
      "execution_count": null,
      "metadata": {
        "id": "TFCjwEtkgw6i"
      },
      "outputs": [],
      "source": []
    },
    {
      "cell_type": "markdown",
      "source": [
        "Python Basics: Assignment 1 - Understanding the Fundamentals\n",
        "\n",
        "Section 1: Numerical Data Types & Arithmetic Operators (20 Marks)\n",
        "\n",
        "Question 1: The Road Trip Planner\n",
        "Imagine you are planning a road trip. You need to calculate some key details using Python.\n",
        "\n",
        "●\tYour car's fuel efficiency is 11.5 kilometers per liter.\n",
        "\n",
        "●\tThe total distance of the trip is 475 kilometers.\n",
        "\n",
        "●\tThe price of fuel is $1.65 per liter.\n",
        "\n",
        "●\tYour car's fuel tank capacity is 50 liters. You start with a full tank.\n"
      ],
      "metadata": {
        "id": "fatACAnBgyP2"
      }
    },
    {
      "cell_type": "code",
      "source": [
        "# a. How many liters of fuel will you need for the entire trip? (5 marks)\n",
        "\n",
        "FE = 11.5\n",
        "TD = 475\n",
        "\n",
        "lfn=TD/FE\n",
        "\n",
        "print('''a) ''', lfn, '''litres of fuel will be needed for the entire trip, if you start with\n",
        "a full tank then it will be not needed to refill the tank until you are getting back''')\n",
        "\n",
        "# b. How many full tanks of fuel does this represent? (Use an operator that gives you the whole number of tanks). (5 marks)\n",
        "\n",
        "tank=50\n",
        "fulltank=lfn/tank\n",
        "\n",
        "print('''b) Since we already have a full tank of 50 litters and there is needed only 41.3 litres, the whole number of fuel tanks needed\n",
        " will be 0, using module operator % or printing the integer part of the division''', int(fulltank))\n",
        "\n",
        "\n",
        "# c. What is the total estimated fuel cost for the trip (based on the fuel needed)? (5 marks)\n",
        "\n",
        "pricefuel=1.65\n",
        "pricefueltrip=lfn*pricefuel\n",
        "print('''c) The total estimated fuel cost for the trip is $''',pricefueltrip, 'althoug this is already cover by the inicial full tank')\n",
        "\n",
        "# d. After completing the trip, how many liters of fuel will be remaining in your tank if you started full and only refueled the exact amount needed? (Hint: Think about the fuel used from the last full tank). (5 marks)\n",
        "\n",
        "fuelremaining = tank - lfn\n",
        "\n",
        "print('d) There are ', fuelremaining, 'litres of fuel remaining after completing the trip, since there where no need to refueled in any moment, since there where no asumptions on round trips since the information was in total distance')\n"
      ],
      "metadata": {
        "colab": {
          "base_uri": "https://localhost:8080/"
        },
        "id": "j3ptGAcohNyQ",
        "outputId": "97d65bd8-041c-4a22-9bd1-e9ad27af4d79"
      },
      "execution_count": 24,
      "outputs": [
        {
          "output_type": "stream",
          "name": "stdout",
          "text": [
            "a)  41.30434782608695 litres of fuel will be needed for the entire trip, if you start with\n",
            "a full tank then it will be not needed to refill the tank until you are getting back\n",
            "b) Since we already have a full tank of 50 litters and there is needed only 41.3 litres, the whole number of fuel tanks needed\n",
            " will be 0, using module operator % or printing the integer part of the division 0\n",
            "c) The total estimated fuel cost for the trip is $ 68.15217391304347 althoug this is already cover by the inicial full tank\n",
            "d) There are  8.695652173913047 litres of fuel remaining after completing the trip, since there where no need to refueled in any moment, since there where no asumptions on round trips since the information was in total distance\n"
          ]
        }
      ]
    },
    {
      "cell_type": "markdown",
      "source": [
        "Section 2: Comparison & Logical Operators (20 Marks)\n",
        "\n",
        "Question 2: Theme Park Entry Rules\n",
        "\n",
        "A theme park has a special discount rule. A person gets a discount if they meet ONE of the following criteria:\n",
        "\n",
        "●\tThey are a child (age 12 or younger) AND it is a weekday.\n",
        "\n",
        "●\tThey are a senior (age 65 or older) REGARDLESS of the day.\n",
        "\n",
        "●\tIt is a special \"Family Day\" AND they are part of a group of 4 or more.\n",
        "\n",
        "\n"
      ],
      "metadata": {
        "id": "2WnHS5w4i1ji"
      }
    },
    {
      "cell_type": "code",
      "source": [
        "age = 30\n",
        "is_weekday = True\n",
        "is_family_day = False\n",
        "group_size = 3\n",
        "\n",
        "# a. Write a single, comprehensive Python boolean expression that evaluates to True if a person with the current variable values qualifies\n",
        "# for a discount, and False otherwise. Show the expression and its result. (10 marks)\n",
        "\n",
        "discount = (age >= 65) or (age <= 12 and is_weekday) or (is_family_day and group_size >= 4)\n",
        "\n",
        "print('Are you eligible for a discount? ', discount)"
      ],
      "metadata": {
        "colab": {
          "base_uri": "https://localhost:8080/"
        },
        "id": "WUVsQG4oi1Td",
        "outputId": "58020aa0-5222-4a54-df16-85a65f07c18a"
      },
      "execution_count": 28,
      "outputs": [
        {
          "output_type": "stream",
          "name": "stdout",
          "text": [
            "Are you eligible for a discount?  False\n"
          ]
        }
      ]
    },
    {
      "cell_type": "code",
      "source": [
        "age = 10\n",
        "is_weekday = True\n",
        "is_family_day = False\n",
        "group_size = 2\n",
        "\n",
        "#Evaluate your boolean expression from part (a) with these new values. Show the result. (5 marks)\n",
        "\n",
        "discount = (age >= 65) or (age <= 12 and is_weekday) or (is_family_day and group_size >= 4)\n",
        "\n",
        "print('Are you eligible for a discount? ', discount)"
      ],
      "metadata": {
        "colab": {
          "base_uri": "https://localhost:8080/"
        },
        "id": "okPrsAXLsL6Y",
        "outputId": "03be36ec-9dba-4c79-cab3-0477d72c0541"
      },
      "execution_count": 32,
      "outputs": [
        {
          "output_type": "stream",
          "name": "stdout",
          "text": [
            "Are you eligible for a discount?  True\n"
          ]
        }
      ]
    },
    {
      "cell_type": "code",
      "source": [
        "# c. For the scenario in part (b), explain step-by-step how Python evaluates your boolean expression. Describe the result of each\n",
        "# comparison and how the and/or operators combine these results to reach the final answer. (5 marks)\n",
        "\n",
        "print('''The bolean expression is based on the park entry rules, there are 3 scenarios where a customer can obtain a discount,\n",
        "once the customer meet at least one of them, they will get a discount, in this case we can use OR each and obtaining true in one of them\n",
        "will be a true for a discount.\n",
        "\n",
        "There is one condition to meet to obtain always a discount\n",
        " 1. The eldery 65+ always obtain discount\n",
        "On the other hand there are two of the conditions that has to evaluate if the customer meets 2 criteria in that case we can use AND:\n",
        " 2. Kids 12 years old and under can get a discount if it is a weekday, have to meet both criteria\n",
        " 3. If there is a family day AND the group size is 4 or more\n",
        "\n",
        " For this reason the bolean expression is:  discount = (age >= 65) or (age <= 12 and is_weekday) or (is_family_day and group_size >= 4)\n",
        "''')\n",
        "\n"
      ],
      "metadata": {
        "colab": {
          "base_uri": "https://localhost:8080/"
        },
        "id": "TB5N6E_ZsjlW",
        "outputId": "fa7bbaca-df82-462a-febe-b989fe143a6a"
      },
      "execution_count": 35,
      "outputs": [
        {
          "output_type": "stream",
          "name": "stdout",
          "text": [
            "The bolean expression is based on the park entry rules, there are 3 scenarios where a customer can obtain a discount, \n",
            "once the customer meet at least one of them, they will get a discount, in this case we can use OR each and obtaining true in one of them \n",
            "will be a true for a discount.\n",
            "\n",
            "There is one condition to meet to obtain always a discount \n",
            " 1. The eldery 65+ always obtain discount\n",
            "On the other hand there are two of the conditions that has to evaluate if the customer meets 2 criteria in that case we can use AND:\n",
            " 2. Kids 12 years old and under can get a discount if it is a weekday, have to meet both criteria\n",
            " 3. If there is a family day AND the group size is 4 or more \n",
            " \n",
            " For this reason the bolean expression is:  discount = (age >= 65) or (age <= 12 and is_weekday) or (is_family_day and group_size >= 4)\n",
            "\n"
          ]
        }
      ]
    },
    {
      "cell_type": "markdown",
      "source": [
        "Section 3: String Data Types, Indexing & Slicing (25 Marks)\n",
        "\n",
        "Question 3: Message Decoder\n",
        "You are given the following secret message encoded in a Python string:\n",
        "secret_message = \"PyThoN_Is_FuN_AnD_PoWeRfUl!\"\n"
      ],
      "metadata": {
        "id": "r5LuZSFbwtnQ"
      }
    },
    {
      "cell_type": "code",
      "source": [
        "secret_message = \"PyThoN_Is_FuN_AnD_PoWeRfUl!\"\n",
        "print(type(secret_message))\n",
        "\n",
        "\n",
        "# a. What is the character at index 5 of secret_message? (3 marks)\n",
        "print('a) ', secret_message[5], 'index position start from 0')\n",
        "\n",
        "# b. Using positive indexing and slicing, extract the substring \"Is_FuN\". (5 marks)\n",
        "print('b) ', secret_message[7:13], 'index posiiton start with 0 and the upper limit on the expresion is not included')\n",
        "\n",
        "# c. Using negative indexing and slicing, extract the substring \"PoWeRfUl\". (5 marks)\n",
        "print('c) ', secret_message[-9:-1], 'index posiiton backwards start with -1 and the upper limit on the expresion in this case is -l wicch is not included')\n",
        "\n",
        "# d. Create a new string that consists of every 4th character of secret_message, starting from the first character (index 0). Show the slicing expression you used and the resulting string. (7 marks)\n",
        "\n",
        "print('d) ', y)\n",
        "\n",
        "\n",
        "print('e) The string length is ', len(secret_message), 'for this reason when we try to access to a 50 index it will be an error, cause lengh is not big enough')\n",
        "\n",
        "#secret_message[50]\n",
        "\n"
      ],
      "metadata": {
        "colab": {
          "base_uri": "https://localhost:8080/"
        },
        "id": "AxDBKYcute_N",
        "outputId": "773dee55-6368-4724-8f97-8f96701b0ed2"
      },
      "execution_count": 73,
      "outputs": [
        {
          "output_type": "stream",
          "name": "stdout",
          "text": [
            "<class 'str'>\n",
            "a)  N index position start from 0\n",
            "b)  Is_FuN index posiiton start with 0 and the upper limit on the expresion is not included\n",
            "c)  PoWeRfUl index posiiton backwards start with -1 and the upper limit on the expresion in this case is -l wicch is not included\n",
            "d)  PyThoN_Is_FuN_AnD_PoWeRfUl!\n",
            "e) The string length is  27 for this reason when we try to access to a 50 index it will be an error, cause lengh is not big enough\n"
          ]
        }
      ]
    },
    {
      "cell_type": "markdown",
      "source": [
        "Section 4: Boolean Values & Expressions (15 Marks)\n",
        "\n",
        "Question 4: Predict and Verify\n"
      ],
      "metadata": {
        "id": "53-CyrBd7jWy"
      }
    },
    {
      "cell_type": "code",
      "source": [
        "# Consider the following Python variable assignments:\n",
        "x = 15\n",
        "y = 25\n",
        "z = 15\n",
        "text = \"adventure\"\n",
        "#For each boolean expression below:\n",
        "#i. Predict whether the expression will evaluate to True or False before running it.\n",
        "#ii. Write down the Python expression.\n",
        "#iii. State the actual result Python gives.\n",
        "#iv. If your prediction was incorrect, briefly explain what you misunderstood.\n",
        "\n",
        "#a. (x == z) and (y > x) (5 marks)\n",
        "# That would be a true statement x and z are same value and 25 is greater than 15\n",
        "\n",
        "a = (x == z) and (y > x)\n",
        "print ('a) ', a)\n",
        "\n",
        "#b. (x != z) or (y < x) or (len(text) < 5) (5 marks)\n",
        "# that would be a false becase neither of the espresion is true, x and z are equal, y is greater than x, ant len of text is grater than 5\n",
        "b = (x != z) or (y < x) or (len(text) < 5)\n",
        "print ('b) ', b)\n",
        "\n",
        "#c. not ((x > y) and (text == \"Adventure\")) (Note the case difference in \"Adventure\") (5 marks)\n",
        "#That would be a true statement because x is not grater than x (false) and text is not identical beacase Capital A (false) since this is a not statement the result should be true\n",
        "\n",
        "c=not ((x > y) and (text == \"Adventure\"))\n",
        "print ('c) ', c)\n"
      ],
      "metadata": {
        "colab": {
          "base_uri": "https://localhost:8080/"
        },
        "id": "fsK85anc7kyf",
        "outputId": "bdadfdaa-8e94-460e-ae2d-1308b9aeb5db"
      },
      "execution_count": 78,
      "outputs": [
        {
          "output_type": "stream",
          "name": "stdout",
          "text": [
            "a)  True\n",
            "b)  False\n",
            "c)  True\n"
          ]
        }
      ]
    },
    {
      "cell_type": "markdown",
      "source": [
        "Section 5: String Properties & Basic Methods (20 Marks)\n",
        "\n",
        "Question 5: User Profile Setup\n",
        "You are working on a simple user profile system.\n",
        "\n"
      ],
      "metadata": {
        "id": "r1CSgEpT91Yk"
      }
    },
    {
      "cell_type": "code",
      "source": [
        "#a. A user tries to set their username:\n",
        "username = \"MyUser123\"\n",
        "#Later, they want to change the first letter to lowercase directly:\n",
        "username[0] = 'm'\n",
        "#What happens when this code is executed? Explain this behavior in the context of a key property of strings in Python. (7 marks)\n",
        "\n",
        "#This give back an error of str object does not support item assigment, becase on of the properties of variables in python is that they are unmutable, this means that can not be change, you need to define a new variable"
      ],
      "metadata": {
        "colab": {
          "base_uri": "https://localhost:8080/",
          "height": 211
        },
        "id": "E_04orZq95v9",
        "outputId": "1e639b01-caea-47b3-df3a-3f32fae4f69d"
      },
      "execution_count": 81,
      "outputs": [
        {
          "output_type": "error",
          "ename": "TypeError",
          "evalue": "'str' object does not support item assignment",
          "traceback": [
            "\u001b[0;31m---------------------------------------------------------------------------\u001b[0m",
            "\u001b[0;31mTypeError\u001b[0m                                 Traceback (most recent call last)",
            "\u001b[0;32m<ipython-input-81-25fa4af1bf4d>\u001b[0m in \u001b[0;36m<cell line: 0>\u001b[0;34m()\u001b[0m\n\u001b[1;32m      2\u001b[0m \u001b[0musername\u001b[0m \u001b[0;34m=\u001b[0m \u001b[0;34m\"MyUser123\"\u001b[0m\u001b[0;34m\u001b[0m\u001b[0;34m\u001b[0m\u001b[0m\n\u001b[1;32m      3\u001b[0m \u001b[0;31m#Later, they want to change the first letter to lowercase directly:\u001b[0m\u001b[0;34m\u001b[0m\u001b[0;34m\u001b[0m\u001b[0m\n\u001b[0;32m----> 4\u001b[0;31m \u001b[0musername\u001b[0m\u001b[0;34m[\u001b[0m\u001b[0;36m0\u001b[0m\u001b[0;34m]\u001b[0m \u001b[0;34m=\u001b[0m \u001b[0;34m'm'\u001b[0m\u001b[0;34m\u001b[0m\u001b[0;34m\u001b[0m\u001b[0m\n\u001b[0m\u001b[1;32m      5\u001b[0m \u001b[0;31m#What happens when this code is executed? Explain this behavior in the context of a key property of strings in Python. (7 marks)\u001b[0m\u001b[0;34m\u001b[0m\u001b[0;34m\u001b[0m\u001b[0m\n\u001b[1;32m      6\u001b[0m \u001b[0;34m\u001b[0m\u001b[0m\n",
            "\u001b[0;31mTypeError\u001b[0m: 'str' object does not support item assignment"
          ]
        }
      ]
    },
    {
      "cell_type": "code",
      "source": [
        "#b. Another user provides their favorite quote:\n",
        "quote = \" practice makes perfect \"\n",
        "# Write Python code to perform the following transformations on this quote (apply them sequentially):\n",
        "\n",
        "#1. Remove any leading or trailing whitespace.\n",
        "w = quote.strip()\n",
        "print(w)\n",
        "\n",
        "\n",
        "#2. Convert the entire quote to uppercase.\n",
        "x = w.upper()\n",
        "print(x)\n",
        "\n",
        "#3. Replace the word \"PERFECT\" with \"PROGRESS\".\n",
        "formatted_quote = x.replace('PERFECT', 'PROGRESS')\n",
        "#Store the final result in a variable called formatted_quote.\n",
        "#show your code and the final value of formatted_quote. Explain what each string method you used does. (8 marks)\n",
        "\n",
        "print(formatted_quote)\n",
        "\n",
        "#c. What is the length of the original quote (including spaces) and the length of the formatted_quote? Show how you would find this using Python. (5 marks)\n",
        "length_original = len(quote)\n",
        "print('Length of original quote', length_original)\n",
        "\n",
        "length_formatted = len(formatted_quote)\n",
        "print('Length of formatted quote', length_formatted)"
      ],
      "metadata": {
        "colab": {
          "base_uri": "https://localhost:8080/"
        },
        "id": "Is-PHhx3-Go9",
        "outputId": "c3109995-684f-4011-9b92-00c4c667cf0f"
      },
      "execution_count": 90,
      "outputs": [
        {
          "output_type": "stream",
          "name": "stdout",
          "text": [
            "practice makes perfect\n",
            "PRACTICE MAKES PERFECT\n",
            "PRACTICE MAKES PROGRESS\n",
            "Length of original quote 24\n",
            "Length of formatted quote 23\n"
          ]
        }
      ]
    }
  ]
}